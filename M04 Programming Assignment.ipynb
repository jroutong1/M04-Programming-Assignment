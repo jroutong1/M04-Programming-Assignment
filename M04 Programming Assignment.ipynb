{
 "cells": [
  {
   "cell_type": "code",
   "execution_count": 1,
   "id": "7303cb34",
   "metadata": {},
   "outputs": [
    {
     "name": "stdout",
     "output_type": "stream",
     "text": [
      "Overwriting zoo.py\n"
     ]
    }
   ],
   "source": [
    "%%writefile zoo.py\n",
    "\n",
    "def hours():\n",
    "    print('Open 9-5 daily.')"
   ]
  },
  {
   "cell_type": "code",
   "execution_count": 2,
   "id": "b162e75f",
   "metadata": {},
   "outputs": [
    {
     "name": "stdout",
     "output_type": "stream",
     "text": [
      "Open 9-5 daily.\n"
     ]
    }
   ],
   "source": [
    "import zoo as menagerie\n",
    "\n",
    "menagerie.hours()"
   ]
  },
  {
   "cell_type": "code",
   "execution_count": 3,
   "id": "00c088d4",
   "metadata": {},
   "outputs": [
    {
     "data": {
      "text/plain": [
       "<sqlite3.Cursor at 0x1e350f9c240>"
      ]
     },
     "execution_count": 3,
     "metadata": {},
     "output_type": "execute_result"
    }
   ],
   "source": [
    "import sqlite3\n",
    "con = sqlite3.connect(\"books.db\")\n",
    "cur = con.cursor()\n",
    "cur.execute(\"CREATE TABLE books(title TEXT, author TEXT, year INTEGER)\")"
   ]
  },
  {
   "cell_type": "code",
   "execution_count": 4,
   "id": "3efc689f",
   "metadata": {},
   "outputs": [],
   "source": [
    "cur.execute(\"\"\"\n",
    "    INSERT INTO books (title, author, year) VALUES\n",
    "        (\"The Weirdstone of Brisingamen\",\"Alan Garner\",1960),\n",
    "        (\"Perdido Street Station\",\"China Miéville\",2000),\n",
    "        (\"Thud!\",\"Terry Pratchett\",2005),\n",
    "        (\"The Spellman Files\",\"Lisa Lutz\",2007),\n",
    "        (\"Small Gods\",\"Terry Pratchett\",1992)\n",
    "\"\"\")\n",
    "con.commit()"
   ]
  },
  {
   "cell_type": "code",
   "execution_count": 5,
   "id": "86b1fb11",
   "metadata": {},
   "outputs": [
    {
     "data": {
      "text/plain": [
       "[('Thud!',),\n",
       " ('The Weirdstone of Brisingamen',),\n",
       " ('The Spellman Files',),\n",
       " ('Small Gods',),\n",
       " ('Perdido Street Station',)]"
      ]
     },
     "execution_count": 5,
     "metadata": {},
     "output_type": "execute_result"
    }
   ],
   "source": [
    "import sqlalchemy as db\n",
    "\n",
    "engine = db.create_engine('sqlite:///books.db')\n",
    "connection = engine.connect()\n",
    "metadata = db.MetaData()\n",
    "books = db.Table('books', metadata, autoload=True, autoload_with=engine)\n",
    "\n",
    "query = db.select([books.columns.title]).order_by(db.desc(books.columns.title))\n",
    "ResultProxy = connection.execute(query)\n",
    "ResultSet = ResultProxy.fetchall()\n",
    "ResultSet[:5]"
   ]
  }
 ],
 "metadata": {
  "kernelspec": {
   "display_name": "Python 3 (ipykernel)",
   "language": "python",
   "name": "python3"
  },
  "language_info": {
   "codemirror_mode": {
    "name": "ipython",
    "version": 3
   },
   "file_extension": ".py",
   "mimetype": "text/x-python",
   "name": "python",
   "nbconvert_exporter": "python",
   "pygments_lexer": "ipython3",
   "version": "3.11.5"
  }
 },
 "nbformat": 4,
 "nbformat_minor": 5
}
